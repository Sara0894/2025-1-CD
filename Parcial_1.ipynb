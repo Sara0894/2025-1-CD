{
  "nbformat": 4,
  "nbformat_minor": 0,
  "metadata": {
    "colab": {
      "provenance": [],
      "collapsed_sections": [
        "Ef1i1nPCXo_-",
        "HCnjKnWtX2iV",
        "WObZdUqcX9-F"
      ],
      "include_colab_link": true
    },
    "kernelspec": {
      "name": "python3",
      "display_name": "Python 3"
    },
    "language_info": {
      "name": "python"
    }
  },
  "cells": [
    {
      "cell_type": "markdown",
      "metadata": {
        "id": "view-in-github",
        "colab_type": "text"
      },
      "source": [
        "<a href=\"https://colab.research.google.com/github/Sara0894/2025-1-CD/blob/main/Parcial_1.ipynb\" target=\"_parent\"><img src=\"https://colab.research.google.com/assets/colab-badge.svg\" alt=\"Open In Colab\"/></a>"
      ]
    },
    {
      "cell_type": "markdown",
      "source": [
        "# **Numpy**"
      ],
      "metadata": {
        "id": "Ef1i1nPCXo_-"
      }
    },
    {
      "cell_type": "code",
      "source": [
        "import numpy as np"
      ],
      "metadata": {
        "id": "_3-P8kzbM8qZ"
      },
      "execution_count": null,
      "outputs": []
    },
    {
      "cell_type": "markdown",
      "source": [
        "**1. Crea un array de NumPy con los números del 1 al 100 e imprime los múltiplos de 7.**"
      ],
      "metadata": {
        "id": "CS29DOn7YDy_"
      }
    },
    {
      "cell_type": "code",
      "source": [
        "numbers_array = np.arange(1, 101)\n",
        "print(\"Múltiplos de 7:\", numbers_array[numbers_array % 7 == 0])"
      ],
      "metadata": {
        "colab": {
          "base_uri": "https://localhost:8080/"
        },
        "id": "srQc4MSwNpoG",
        "outputId": "f220a58c-45ac-4b65-ab8b-26acba994918"
      },
      "execution_count": null,
      "outputs": [
        {
          "output_type": "stream",
          "name": "stdout",
          "text": [
            "Múltiplos de 7: [ 7 14 21 28 35 42 49 56 63 70 77 84 91 98]\n"
          ]
        }
      ]
    },
    {
      "cell_type": "markdown",
      "source": [
        "**2. Crea una matriz de 4x4 con números aleatorios enteros entre 10 y 50. Luego reemplaza los valores impares por -1.**"
      ],
      "metadata": {
        "id": "iKgbGH0wYLu0"
      }
    },
    {
      "cell_type": "code",
      "source": [
        "np.random.seed(42)\n",
        "random_matrix = np.random.randint(10, 51, size=(4, 4))\n",
        "original_matrix = random_matrix.copy()\n",
        "random_matrix[random_matrix % 2 != 0] = -1\n",
        "print(\"Matriz original:\\n\", original_matrix)\n",
        "print(\"Matriz con impares reemplazado:\\n\", random_matrix)"
      ],
      "metadata": {
        "colab": {
          "base_uri": "https://localhost:8080/"
        },
        "id": "z3femhIkN2nA",
        "outputId": "f1dcacd3-b2e6-4942-d8e5-b7a12e6c2c0d"
      },
      "execution_count": null,
      "outputs": [
        {
          "output_type": "stream",
          "name": "stdout",
          "text": [
            "Matriz original:\n",
            " [[48 38 24 17]\n",
            " [30 48 28 32]\n",
            " [20 20 33 45]\n",
            " [49 33 12 31]]\n",
            "Matriz con impares reemplazado:\n",
            " [[48 38 24 -1]\n",
            " [30 48 28 32]\n",
            " [20 20 -1 -1]\n",
            " [-1 -1 12 -1]]\n"
          ]
        }
      ]
    },
    {
      "cell_type": "markdown",
      "source": [
        "**3. Genera una matriz de 5x5 con valores entre 0 y 1 distribuidos uniformemente. Luego, calcula la suma por columnas.**"
      ],
      "metadata": {
        "id": "FPWE_hDxYViq"
      }
    },
    {
      "cell_type": "code",
      "source": [
        "np.random.seed(123)\n",
        "uniform_matrix = np.random.rand(5, 5)\n",
        "column_sums = uniform_matrix.sum(axis=0)\n",
        "print(\"Matriz aleatoria: \\n\", uniform_matrix)\n",
        "print(\"Suma por columnas: \\n\", column_sums)"
      ],
      "metadata": {
        "colab": {
          "base_uri": "https://localhost:8080/"
        },
        "id": "N1URxjATPGjY",
        "outputId": "290f1e75-1c11-4d7c-beec-3917f0ccd44b"
      },
      "execution_count": null,
      "outputs": [
        {
          "output_type": "stream",
          "name": "stdout",
          "text": [
            "Matriz aleatoria: \n",
            " [[0.69646919 0.28613933 0.22685145 0.55131477 0.71946897]\n",
            " [0.42310646 0.9807642  0.68482974 0.4809319  0.39211752]\n",
            " [0.34317802 0.72904971 0.43857224 0.0596779  0.39804426]\n",
            " [0.73799541 0.18249173 0.17545176 0.53155137 0.53182759]\n",
            " [0.63440096 0.84943179 0.72445532 0.61102351 0.72244338]]\n",
            "Suma por columnas: \n",
            " [2.83515003 3.02787677 2.25016052 2.23449945 2.76390171]\n"
          ]
        }
      ]
    },
    {
      "cell_type": "markdown",
      "source": [
        "**4. Dado un array arr = np.array([1, 2, 3, 4, 5]), obtén su versión invertida.**"
      ],
      "metadata": {
        "id": "EFl0nIj9YYF6"
      }
    },
    {
      "cell_type": "code",
      "source": [
        "original_array = np.array([1, 2, 3, 4, 5])\n",
        "reversed_array = original_array[::-1]\n",
        "print(\"Array original: \\n\", original_array)\n",
        "print(\"Array invertido: \\n\", reversed_array)"
      ],
      "metadata": {
        "colab": {
          "base_uri": "https://localhost:8080/"
        },
        "id": "BJcZad-MQGYT",
        "outputId": "4a963b3a-75d1-4078-e2ed-ff76a67aca9c"
      },
      "execution_count": null,
      "outputs": [
        {
          "output_type": "stream",
          "name": "stdout",
          "text": [
            "Array original: \n",
            " [1 2 3 4 5]\n",
            "Array invertido: \n",
            " [5 4 3 2 1]\n"
          ]
        }
      ]
    },
    {
      "cell_type": "markdown",
      "source": [
        "**5. Crea una matriz identidad de 6x6 y multiplícala por 3. ¿Qué observas?**"
      ],
      "metadata": {
        "id": "QYjA18woYlQb"
      }
    },
    {
      "cell_type": "code",
      "source": [
        "indentity_matrix = np.eye(6)\n",
        "print(\"Matriz identidad: \\n\", indentity_matrix)\n",
        "print(\"Matriz identidad multiplicada por 3: \\n\", indentity_matrix * 3)"
      ],
      "metadata": {
        "colab": {
          "base_uri": "https://localhost:8080/"
        },
        "id": "ucqYvAmTQW-L",
        "outputId": "cf3f4302-3de5-4ba3-fefb-c4046a8a47ff"
      },
      "execution_count": null,
      "outputs": [
        {
          "output_type": "stream",
          "name": "stdout",
          "text": [
            "Matriz identidad: \n",
            " [[1. 0. 0. 0. 0. 0.]\n",
            " [0. 1. 0. 0. 0. 0.]\n",
            " [0. 0. 1. 0. 0. 0.]\n",
            " [0. 0. 0. 1. 0. 0.]\n",
            " [0. 0. 0. 0. 1. 0.]\n",
            " [0. 0. 0. 0. 0. 1.]]\n",
            "Matriz identidad multiplicada por 3: \n",
            " [[3. 0. 0. 0. 0. 0.]\n",
            " [0. 3. 0. 0. 0. 0.]\n",
            " [0. 0. 3. 0. 0. 0.]\n",
            " [0. 0. 0. 3. 0. 0.]\n",
            " [0. 0. 0. 0. 3. 0.]\n",
            " [0. 0. 0. 0. 0. 3.]]\n"
          ]
        }
      ]
    },
    {
      "cell_type": "markdown",
      "source": [
        "Se obtiene una matriz diagonal donde los números 1 en diagonal son reemplazados con números 3. Además se observan números ceros en el resto de la matriz."
      ],
      "metadata": {
        "id": "1yx23fuMUKJb"
      }
    },
    {
      "cell_type": "markdown",
      "source": [
        "**6. Crea un array de 15 elementos entre 1 y 100 y ordénalo de mayor a menor.**"
      ],
      "metadata": {
        "id": "n7AvrfXBYpTx"
      }
    },
    {
      "cell_type": "code",
      "source": [
        "np.random.seed(10)\n",
        "random_array = np.random.randint(1, 101, size=15)\n",
        "random_array.sort()\n",
        "desc_array = random_array[::-1]\n",
        "print(\"Array original: \\n\", random_array)\n",
        "print(\"Array ordenado de mayor a menor: \\n\", desc_array)"
      ],
      "metadata": {
        "colab": {
          "base_uri": "https://localhost:8080/"
        },
        "id": "oNXr2DZPUi1f",
        "outputId": "985739cb-c9ae-4b0d-cfc1-27a97f76516f"
      },
      "execution_count": null,
      "outputs": [
        {
          "output_type": "stream",
          "name": "stdout",
          "text": [
            "Array original: \n",
            " [ 1  9 10 12 16 17 29 30 37 41 55 65 74 90 94]\n",
            "Array ordenado de mayor a menor: \n",
            " [94 90 74 65 55 41 37 30 29 17 16 12 10  9  1]\n"
          ]
        }
      ]
    },
    {
      "cell_type": "markdown",
      "source": [
        "**7. Usa NumPy para calcular la media, la mediana y la desviación estándar de un\n",
        "array de 30 valores aleatorios entre 0 y 100.**"
      ],
      "metadata": {
        "id": "m8SiYpEIYr0u"
      }
    },
    {
      "cell_type": "code",
      "source": [
        "np.random.seed(99)\n",
        "arr_30 = np.random.randint(0, 101, size=30)\n",
        "print(\"Array de 30 valores: \\n\", arr_30)\n",
        "print(\"Media: \\n\", np.mean(arr_30))\n",
        "print(\"Mediana: \\n\", np.median(arr_30))\n",
        "print(\"Desviación estándar: \\n\", np.std(arr_30))"
      ],
      "metadata": {
        "colab": {
          "base_uri": "https://localhost:8080/"
        },
        "id": "2uNgRaTLU3SP",
        "outputId": "e29cebfa-1b69-41e3-c6b2-b2b0ffe69632"
      },
      "execution_count": null,
      "outputs": [
        {
          "output_type": "stream",
          "name": "stdout",
          "text": [
            "Array de 30 valores: \n",
            " [ 1 35 57 40 73 82 68 69 52  1 23 35 55 65 48 93 59 87  2 64 12 40 72 20\n",
            " 59 39 79 47 27 62]\n",
            "Media: \n",
            " 48.86666666666667\n",
            "Mediana: \n",
            " 53.5\n",
            "Desviación estándar: \n",
            " 25.192238663701346\n"
          ]
        }
      ]
    },
    {
      "cell_type": "markdown",
      "source": [
        "**8. Crea un array bidimensional 6x3 con valores aleatorios y reemplaza la fila con el menor promedio por ceros.**"
      ],
      "metadata": {
        "id": "7H4yhnskYuqG"
      }
    },
    {
      "cell_type": "code",
      "source": [
        "np.random.seed(7)\n",
        "matrix_6x3 = np.random.rand(6,3)\n",
        "row_means = matrix_6x3.mean(axis=1)\n",
        "min_row_idx = np.argmin(row_means)\n",
        "modified_matrix = matrix_6x3.copy()\n",
        "modified_matrix[min_row_idx] = 0\n",
        "print(\"Matriz original: \\n\", matrix_6x3)\n",
        "print(\"Promedios por fila\", row_means)\n",
        "print(\"Fila con menor promedio (índice): \", min_row_idx)\n",
        "print(\"Matriz modificada: \\n\", modified_matrix)"
      ],
      "metadata": {
        "colab": {
          "base_uri": "https://localhost:8080/"
        },
        "id": "PYonth0hXRIh",
        "outputId": "6701bd03-ed55-4d61-e476-c944fc0eddcc"
      },
      "execution_count": null,
      "outputs": [
        {
          "output_type": "stream",
          "name": "stdout",
          "text": [
            "Matriz original: \n",
            " [[0.07630829 0.77991879 0.43840923]\n",
            " [0.72346518 0.97798951 0.53849587]\n",
            " [0.50112046 0.07205113 0.26843898]\n",
            " [0.4998825  0.67923    0.80373904]\n",
            " [0.38094113 0.06593635 0.2881456 ]\n",
            " [0.90959353 0.21338535 0.45212396]]\n",
            "Promedios por fila [0.43154544 0.74665019 0.28053686 0.66095051 0.24500769 0.52503428]\n",
            "Fila con menor promedio (índice):  4\n",
            "Matriz modificada: \n",
            " [[0.07630829 0.77991879 0.43840923]\n",
            " [0.72346518 0.97798951 0.53849587]\n",
            " [0.50112046 0.07205113 0.26843898]\n",
            " [0.4998825  0.67923    0.80373904]\n",
            " [0.         0.         0.        ]\n",
            " [0.90959353 0.21338535 0.45212396]]\n"
          ]
        }
      ]
    },
    {
      "cell_type": "markdown",
      "source": [
        "**9. Crea un array 3x4 y aplica la función np.cumsum() por filas.**"
      ],
      "metadata": {
        "id": "7LljoALZY1GH"
      }
    },
    {
      "cell_type": "code",
      "source": [
        "np.random.seed(15)\n",
        "matrix_3x4 = np.random.randint(0, 10, size=(3, 4))\n",
        "cumulatives_sum = np.cumsum(matrix_3x4, axis=1)\n",
        "print(\"Matriz original: \\n\", matrix_3x4)\n",
        "print(\"Suma acumulada por filas: \\n\", cumulatives_sum)"
      ],
      "metadata": {
        "colab": {
          "base_uri": "https://localhost:8080/"
        },
        "id": "P5IIFumOZELH",
        "outputId": "4eceacb2-b73e-4def-e309-8596ff047e62"
      },
      "execution_count": null,
      "outputs": [
        {
          "output_type": "stream",
          "name": "stdout",
          "text": [
            "Matriz original: \n",
            " [[8 5 5 7]\n",
            " [0 7 5 6]\n",
            " [1 7 0 4]]\n",
            "Suma acumulada por filas: \n",
            " [[ 8 13 18 25]\n",
            " [ 0  7 12 18]\n",
            " [ 1  8  8 12]]\n"
          ]
        }
      ]
    },
    {
      "cell_type": "markdown",
      "source": [
        "**10. Dado el siguiente array:\n",
        "arr = np.array([[10, 20, 30], [40, 50, 60], [70, 80, 90]]), extrae solo los elementos de la diagonal principal.**"
      ],
      "metadata": {
        "id": "80irGDWNY6E9"
      }
    },
    {
      "cell_type": "code",
      "source": [
        "squeare_matrix = np.array([[10, 20, 30], [40, 50, 60], [70, 80, 90]])\n",
        "main_diagonal = np.diagonal(squeare_matrix)\n",
        "print(\"Matriz original: \\n\", squeare_matrix)\n",
        "print(\"Diagonal principal: \\n\", main_diagonal)"
      ],
      "metadata": {
        "colab": {
          "base_uri": "https://localhost:8080/"
        },
        "id": "uXnTbFdoZjtv",
        "outputId": "a27d4739-59af-4238-d6ff-81dc82ba8643"
      },
      "execution_count": null,
      "outputs": [
        {
          "output_type": "stream",
          "name": "stdout",
          "text": [
            "Matriz original: \n",
            " [[10 20 30]\n",
            " [40 50 60]\n",
            " [70 80 90]]\n",
            "Diagonal principal: \n",
            " [10 50 90]\n"
          ]
        }
      ]
    },
    {
      "cell_type": "markdown",
      "source": [
        "# **Pandas**"
      ],
      "metadata": {
        "id": "HCnjKnWtX2iV"
      }
    },
    {
      "cell_type": "code",
      "source": [
        "import pandas as pd"
      ],
      "metadata": {
        "id": "iJqjbBsEZkX_"
      },
      "execution_count": null,
      "outputs": []
    },
    {
      "cell_type": "markdown",
      "source": [
        "**11. Crea un DataFrame con las columnas: Nombre, Edad, Ciudad, Salario con al menos 5 registros. Filtra los registros con salario mayor a 2.000.000.**"
      ],
      "metadata": {
        "id": "KIpRz9OVZG2r"
      }
    },
    {
      "cell_type": "code",
      "source": [
        "data = {\n",
        "        'Name': ['Veronica', 'Amelia', 'Sara', 'Samuel', 'Andres','Valentina','Jorge'],\n",
        "        'Age': [28, 22, 25, 29, 31, 42, 33],\n",
        "        'City': ['Cali', 'Bucaramanga', 'Cartajena', 'Medellin', 'Popayan', 'Cucuta', 'Pereira'],\n",
        "        'Salary': [3700000, 1500000, 400000, 3200000, 2100000, 360000, 2900000]\n",
        "    }\n",
        "df = pd.DataFrame(data)\n",
        "filtered_df = df[df['Salary'] > 2000000]\n",
        "print(\"Salarios > 2.000.000\")\n",
        "print(filtered_df)"
      ],
      "metadata": {
        "id": "8M_16gd5ZeX_",
        "colab": {
          "base_uri": "https://localhost:8080/"
        },
        "outputId": "98b1e20f-a550-4405-9e5f-9ff6b55acc1b"
      },
      "execution_count": null,
      "outputs": [
        {
          "output_type": "stream",
          "name": "stdout",
          "text": [
            "Salarios > 2.000.000\n",
            "       Name  Age      City   Salary\n",
            "0  Veronica   28      Cali  3700000\n",
            "3    Samuel   29  Medellin  3200000\n",
            "4    Andres   31   Popayan  2100000\n",
            "6     Jorge   33   Pereira  2900000\n"
          ]
        }
      ]
    },
    {
      "cell_type": "markdown",
      "source": [
        "**12. Importa un CSV desde una URL o archivo local y muestra las 10 primeras filas y las 5 últimas.**"
      ],
      "metadata": {
        "id": "4ROvC65qZPae"
      }
    },
    {
      "cell_type": "code",
      "source": [
        "import pandas as pd\n",
        "url_csv = \"https://www.datos.gov.co/resource/3t73-n4q9.csv\"\n",
        "df_online = pd.read_csv(url_csv)\n",
        "pd.set_option('display.max_columns', 4 )\n",
        "print(\"Primeras 10 filas:\")\n",
        "print(df_online.head(10))\n",
        "print(\"Ultimas 5 filas\")\n",
        "print(df_online.tail(5))"
      ],
      "metadata": {
        "colab": {
          "base_uri": "https://localhost:8080/"
        },
        "id": "o9-sCpBWaS7b",
        "outputId": "cbff01c3-0205-4b41-b2af-1794808a33ea"
      },
      "execution_count": null,
      "outputs": [
        {
          "output_type": "stream",
          "name": "stdout",
          "text": [
            "Primeras 10 filas:\n",
            "               principio_activo unidad_de_dispensacion  ... factoresprecio  \\\n",
            "0                     Midazolam                Ampolla  ...           Alto   \n",
            "1               Acido Valproico                Tableta  ...          Medio   \n",
            "2               Acido Valproico                Tableta  ...          Medio   \n",
            "3                    Fluoxetina                Capsula  ...          Medio   \n",
            "4                Proximetacaina                 Frasco  ...          Medio   \n",
            "5                Proximetacaina                 Frasco  ...          Medio   \n",
            "6  Immunoglobulina Antitimocito                   Vial  ...          Medio   \n",
            "7                    Alopurinol                Tableta  ...           Bajo   \n",
            "8                   Haloperidol                Tableta  ...           Alto   \n",
            "9                   Haloperidol                Tableta  ...           Bajo   \n",
            "\n",
            "  numerofactor  \n",
            "0            3  \n",
            "1            2  \n",
            "2            2  \n",
            "3            2  \n",
            "4            2  \n",
            "5            2  \n",
            "6            2  \n",
            "7            1  \n",
            "8            3  \n",
            "9            1  \n",
            "\n",
            "[10 rows x 9 columns]\n",
            "Ultimas 5 filas\n",
            "    principio_activo unidad_de_dispensacion  ... factoresprecio numerofactor\n",
            "995   Metoclopramida                Tableta  ...           Alto            3\n",
            "996      Galantamina                 Frasco  ...          Medio            2\n",
            "997      Galantamina                 Frasco  ...          Medio            2\n",
            "998       Cefuroxima                Tableta  ...          Medio            2\n",
            "999       Cefuroxima                Tableta  ...           Bajo            1\n",
            "\n",
            "[5 rows x 9 columns]\n"
          ]
        }
      ]
    },
    {
      "cell_type": "markdown",
      "source": [
        "**13. A partir de un DataFrame con una columna de fechas, crea una nueva columna\n",
        "con el nombre del mes.**"
      ],
      "metadata": {
        "id": "WZd6ivqoZTOR"
      }
    },
    {
      "cell_type": "code",
      "source": [
        "data = {\n",
        "        'Name': ['Veronica', 'Amelia', 'Sara', 'Samuel', 'Andres','Valentina','Jorge'],\n",
        "        'Age': [28, 22, 25, 29, 31, 42, 33],\n",
        "        'Birthday': ['20-01-1997', '12-08-2003', '18-06-2000', '20-10-1996', '28-07-1994', '07-05-1983', '15-03-1992']\n",
        "    }\n",
        "df = pd.DataFrame(data)\n",
        "df['Birthday'] = pd.to_datetime(df['Birthday'], format='%d-%m-%Y')\n",
        "df['Month'] = df['Birthday'].dt.strftime('%B')\n",
        "print(\"Mes de cumpleaños:\")\n",
        "print(df)"
      ],
      "metadata": {
        "colab": {
          "base_uri": "https://localhost:8080/"
        },
        "id": "0mZxqosC4xtU",
        "outputId": "7f3a8b58-5156-4abd-e495-0dccef38605e"
      },
      "execution_count": null,
      "outputs": [
        {
          "output_type": "stream",
          "name": "stdout",
          "text": [
            "Mes de cumpleaños:\n",
            "        Name  Age   Birthday    Month\n",
            "0   Veronica   28 1997-01-20  January\n",
            "1     Amelia   22 2003-08-12   August\n",
            "2       Sara   25 2000-06-18     June\n",
            "3     Samuel   29 1996-10-20  October\n",
            "4     Andres   31 1994-07-28     July\n",
            "5  Valentina   42 1983-05-07      May\n",
            "6      Jorge   33 1992-03-15    March\n"
          ]
        }
      ]
    },
    {
      "cell_type": "markdown",
      "source": [
        "**14. Agrupa un DataFrame por la columna Ciudad y calcula el salario promedio por\n",
        "ciudad.**"
      ],
      "metadata": {
        "id": "JD6IvMKCZVy4"
      }
    },
    {
      "cell_type": "code",
      "source": [
        "data = {\n",
        "        'Name': ['Veronica', 'Amelia', 'Sara', 'Samuel', 'Andres','Valentina','Jorge'],\n",
        "        'Age': [28, 22, 25, 29, 31, 42, 33],\n",
        "        'City': ['Cali', 'Bucaramanga', 'Cartajena', 'Cali', 'Popayan', 'Bucaramanga', 'Cartajena'],\n",
        "        'Salary': [3700000, 1500000, 400000, 3200000, 2100000, 360000, 2900000]\n",
        "    }\n",
        "df = pd.DataFrame(data)\n",
        "avg_salary = df.groupby('City')['Salary'].mean()\n",
        "print(\"Salario promedio por ciudad:\")\n",
        "print(avg_salary)"
      ],
      "metadata": {
        "colab": {
          "base_uri": "https://localhost:8080/"
        },
        "id": "Vjl8eNUkj-jH",
        "outputId": "3a950618-701c-438d-8d47-4f7d24aeb39d"
      },
      "execution_count": null,
      "outputs": [
        {
          "output_type": "stream",
          "name": "stdout",
          "text": [
            "Salario promedio por ciudad:\n",
            "City\n",
            "Bucaramanga     930000.0\n",
            "Cali           3450000.0\n",
            "Cartajena      1650000.0\n",
            "Popayan        2100000.0\n",
            "Name: Salary, dtype: float64\n"
          ]
        }
      ]
    },
    {
      "cell_type": "markdown",
      "source": [
        "**15. Agrega una columna que indique si la persona es menor de 30 años (True o\n",
        "False).**"
      ],
      "metadata": {
        "id": "LfCVsl_xZYk1"
      }
    },
    {
      "cell_type": "code",
      "source": [
        "data = {\n",
        "        'Name': ['Veronica', 'Amelia', 'Sara', 'Samuel', 'Andres','Valentina','Jorge'],\n",
        "        'Age': [28, 22, 25, 29, 31, 42, 33],\n",
        "    }\n",
        "df = pd.DataFrame(data)\n",
        "df['Under_30'] = df['Age'] < 30\n",
        "print (\"La persona es menor de 30 años? :\")\n",
        "print(df)"
      ],
      "metadata": {
        "colab": {
          "base_uri": "https://localhost:8080/"
        },
        "id": "sUUPlj3ZlVpg",
        "outputId": "b73cba01-1f58-468e-9b22-a33891dbd158"
      },
      "execution_count": null,
      "outputs": [
        {
          "output_type": "stream",
          "name": "stdout",
          "text": [
            "La persona es menor de 30 años? :\n",
            "        Name  Age  Under_30\n",
            "0   Veronica   28      True\n",
            "1     Amelia   22      True\n",
            "2       Sara   25      True\n",
            "3     Samuel   29      True\n",
            "4     Andres   31     False\n",
            "5  Valentina   42     False\n",
            "6      Jorge   33     False\n"
          ]
        }
      ]
    },
    {
      "cell_type": "markdown",
      "source": [
        "**16. Reemplaza todos los valores nulos de una columna llamada Salario por el\n",
        "promedio de esa columna.**"
      ],
      "metadata": {
        "id": "ANomwkY5ZbbB"
      }
    },
    {
      "cell_type": "code",
      "source": [
        "data = {\n",
        "    'Name': ['Veronica', 'Amelia', 'Sara', 'Samuel', 'Andres', 'Valentina', 'Jorge'],\n",
        "    'Age': [28, 22, 25, 29, 31, 42, 33],\n",
        "    'City': ['Cali', 'Bucaramanga', 'Cartagena', 'Medellin', 'Popayan', 'Cucuta', 'Pereira'],\n",
        "    'Salary': [np.nan, 1500000, np.nan , 3200000, 2100000, 360000, np.nan]\n",
        "}\n",
        "\n",
        "df = pd.DataFrame(data)\n",
        "print(\"Salarios con valores nulos:\")\n",
        "print(df)\n",
        "mean_salary = df['Salary'].mean()\n",
        "df['Salary'] = df['Salary'].fillna(mean_salary)\n",
        "print(\"Salarios sin valores nulos reemplazados por el promedio de la columna\")\n",
        "print(df)\n"
      ],
      "metadata": {
        "colab": {
          "base_uri": "https://localhost:8080/"
        },
        "id": "v4VOJQXmnfm4",
        "outputId": "b9db7ccd-2d54-452c-83ba-a6f580e95532"
      },
      "execution_count": null,
      "outputs": [
        {
          "output_type": "stream",
          "name": "stdout",
          "text": [
            "Salarios con valores nulos:\n",
            "        Name  Age         City     Salary\n",
            "0   Veronica   28         Cali        NaN\n",
            "1     Amelia   22  Bucaramanga  1500000.0\n",
            "2       Sara   25    Cartagena        NaN\n",
            "3     Samuel   29     Medellin  3200000.0\n",
            "4     Andres   31      Popayan  2100000.0\n",
            "5  Valentina   42       Cucuta   360000.0\n",
            "6      Jorge   33      Pereira        NaN\n",
            "Salarios sin valores nulos reemplazados por el promedio de la columna\n",
            "        Name  Age         City     Salary\n",
            "0   Veronica   28         Cali  1790000.0\n",
            "1     Amelia   22  Bucaramanga  1500000.0\n",
            "2       Sara   25    Cartagena  1790000.0\n",
            "3     Samuel   29     Medellin  3200000.0\n",
            "4     Andres   31      Popayan  2100000.0\n",
            "5  Valentina   42       Cucuta   360000.0\n",
            "6      Jorge   33      Pereira  1790000.0\n"
          ]
        }
      ]
    },
    {
      "cell_type": "markdown",
      "source": [
        "**17. Crea un DataFrame con columnas duplicadas y elimina las duplicadas dejando solo una copia.**"
      ],
      "metadata": {
        "id": "rr_ZpsVqZdx2"
      }
    },
    {
      "cell_type": "code",
      "source": [
        "df_dup = pd.DataFrame({\n",
        "    'Name': ['Veronica', 'Amelia', 'Sara', 'Samuel', 'Andres', 'Valentina', 'Jorge'],\n",
        "    'Name_dup': ['Veronica', 'Amelia', 'Sara', 'Samuel', 'Andres', 'Valentina', 'Jorge'],\n",
        "    'Age': [28, 22, 25, 29, 31, 42, 33],\n",
        "    'City': ['Cali', 'Bucaramanga', 'Cartagena', 'Medellin', 'Popayan', 'Cucuta', 'Pereira'],\n",
        "    'City_dup': ['Cali', 'Bucaramanga', 'Cartagena', 'Medellin', 'Popayan', 'Cucuta', 'Pereira'],\n",
        "    'Salary': [3700000, 1500000, 400000, 3200000, 2100000, 360000, 290000]\n",
        "})\n",
        "print(\"DataFrame con columnas duplicadas:\")\n",
        "print(df_dup)\n",
        "df_no_dup = df_dup.T.drop_duplicates().T\n",
        "print(\" DataFrame con las columnas duplicadas eliminadas:\")\n",
        "print(df_no_dup)"
      ],
      "metadata": {
        "colab": {
          "base_uri": "https://localhost:8080/"
        },
        "id": "MUEyFf5z9Axg",
        "outputId": "5600bc86-140f-4fea-c744-85b7a1cffbcf"
      },
      "execution_count": null,
      "outputs": [
        {
          "output_type": "stream",
          "name": "stdout",
          "text": [
            "DataFrame con columnas duplicadas:\n",
            "        Name   Name_dup  ...     City_dup   Salary\n",
            "0   Veronica   Veronica  ...         Cali  3700000\n",
            "1     Amelia     Amelia  ...  Bucaramanga  1500000\n",
            "2       Sara       Sara  ...    Cartagena   400000\n",
            "3     Samuel     Samuel  ...     Medellin  3200000\n",
            "4     Andres     Andres  ...      Popayan  2100000\n",
            "5  Valentina  Valentina  ...       Cucuta   360000\n",
            "6      Jorge      Jorge  ...      Pereira   290000\n",
            "\n",
            "[7 rows x 6 columns]\n",
            " DataFrame con las columnas duplicadas eliminadas:\n",
            "        Name Age         City   Salary\n",
            "0   Veronica  28         Cali  3700000\n",
            "1     Amelia  22  Bucaramanga  1500000\n",
            "2       Sara  25    Cartagena   400000\n",
            "3     Samuel  29     Medellin  3200000\n",
            "4     Andres  31      Popayan  2100000\n",
            "5  Valentina  42       Cucuta   360000\n",
            "6      Jorge  33      Pereira   290000\n"
          ]
        }
      ]
    },
    {
      "cell_type": "markdown",
      "source": [
        "**18. Ordena un DataFrame por dos columnas: primero por Ciudad alfabéticamente y luego por Edad de mayor a menor.**"
      ],
      "metadata": {
        "id": "z3U0VWICZhCk"
      }
    },
    {
      "cell_type": "code",
      "source": [
        "data = {\n",
        "    'Name': ['Veronica', 'Amelia', 'Sara', 'Samuel', 'Andres', 'Valentina', 'Jorge'],\n",
        "    'Age': [28, 22, 25, 29, 31, 42, 33],\n",
        "    'City': ['Cali', 'Bucaramanga', 'Cartagena', 'Medellin', 'Popayan', 'Cucuta', 'Pereira'],\n",
        "   }\n",
        "\n",
        "df = pd.DataFrame(data)\n",
        "df_city_sorted = df.sort_values(by='City', ascending=True)\n",
        "print(\"Cuidad en orden alfabetico :\")\n",
        "print(df_city_sorted)\n",
        "\n",
        "df_age_sorted = df.sort_values(by='Age', ascending=False)\n",
        "print(\"Edad de mayor a menor:\")\n",
        "print(df_age_sorted)"
      ],
      "metadata": {
        "colab": {
          "base_uri": "https://localhost:8080/"
        },
        "id": "dPRParpx7hwl",
        "outputId": "c41d8fa9-ac2b-4daf-bc2a-b8bc9445cb28"
      },
      "execution_count": null,
      "outputs": [
        {
          "output_type": "stream",
          "name": "stdout",
          "text": [
            "Cuidad en orden alfabetico :\n",
            "        Name  Age         City\n",
            "1     Amelia   22  Bucaramanga\n",
            "0   Veronica   28         Cali\n",
            "2       Sara   25    Cartagena\n",
            "5  Valentina   42       Cucuta\n",
            "3     Samuel   29     Medellin\n",
            "6      Jorge   33      Pereira\n",
            "4     Andres   31      Popayan\n",
            "Edad de mayor a menor:\n",
            "        Name  Age         City\n",
            "5  Valentina   42       Cucuta\n",
            "6      Jorge   33      Pereira\n",
            "4     Andres   31      Popayan\n",
            "3     Samuel   29     Medellin\n",
            "0   Veronica   28         Cali\n",
            "2       Sara   25    Cartagena\n",
            "1     Amelia   22  Bucaramanga\n"
          ]
        }
      ]
    },
    {
      "cell_type": "markdown",
      "source": [
        "# **Preguntas complejas**"
      ],
      "metadata": {
        "id": "WObZdUqcX9-F"
      }
    },
    {
      "cell_type": "markdown",
      "source": [
        "**19. Dado el siguiente DataFrame\n",
        "df = pd.DataFrame({\n",
        "'Producto': ['A', 'B', 'A', 'C', 'B', 'A'],\n",
        "'Precio': [1200, 1500, 1300, 1000, 1600, 1250],\n",
        "'Cantidad': [3, 2, 5, 1, 2, 4]\n",
        "}). Agrupa por Producto, calcula el ingreso total (Precio * Cantidad) por producto y ordénalo de mayor a menor.**"
      ],
      "metadata": {
        "id": "yLuhmbFgZrHm"
      }
    },
    {
      "cell_type": "code",
      "source": [
        "import pandas as pd"
      ],
      "metadata": {
        "id": "ge9Dtte0kYPK"
      },
      "execution_count": null,
      "outputs": []
    },
    {
      "cell_type": "code",
      "source": [
        "df = pd.DataFrame({\n",
        "    'Producto': ['A', 'B', 'A', 'C', 'B', 'A'],\n",
        "    'Precio': [1200, 1500, 1300, 1000, 1600, 1250],\n",
        "    'Cantidad': [3, 2, 5, 1, 2, 4]\n",
        "    })\n",
        "\n",
        "Outcome = ( df .assign(Ingreso=df['Precio'] * df['Cantidad'])\n",
        "    .groupby('Producto')['Ingreso'].sum()\n",
        "    .sort_values(ascending=False)\n",
        "    .reset_index())\n",
        "print(Outcome)\n"
      ],
      "metadata": {
        "colab": {
          "base_uri": "https://localhost:8080/"
        },
        "id": "wfASVAJ9k4-v",
        "outputId": "591c107d-2d66-46eb-b4ea-3889d8c36862"
      },
      "execution_count": null,
      "outputs": [
        {
          "output_type": "stream",
          "name": "stdout",
          "text": [
            "  Producto  Ingreso\n",
            "0        A    15100\n",
            "1        B     6200\n",
            "2        C     1000\n"
          ]
        }
      ]
    },
    {
      "cell_type": "markdown",
      "source": [
        "**20. Con un DataFrame de 1000 registros de ventas simuladas (puedes generarlo\n",
        "con datos aleatorios que incluyan columnas como fecha, producto,\n",
        "cantidad, precio_unitario, zona), responde: ¿Cuál es el producto más vendido por zona?, ¿Qué día del mes se obtienen más ingresos?.**"
      ],
      "metadata": {
        "id": "KIX-4XAWZ8gE"
      }
    },
    {
      "cell_type": "code",
      "source": [
        "import pandas as pd\n",
        "import numpy as np\n",
        "from datetime import datetime"
      ],
      "metadata": {
        "id": "NMewivDmrCQx"
      },
      "execution_count": null,
      "outputs": []
    },
    {
      "cell_type": "code",
      "source": [
        "np.random.seed(42)\n",
        "\n",
        "\n",
        "products = [\n",
        "    'Tubos de ensayo', 'Erlenmeyer', 'Probetas', 'Beakers',\n",
        "    'Pipetas', 'Buretas', 'Matraces aforados', 'Vidrio reloj',\n",
        "    'Embudos', 'Termometros', 'Desecadores', 'Picnometros']\n",
        "\n",
        "base_price = {\n",
        "    'Tubos de ensayo': 8500, 'Erlenmeyer': 23500, 'Probetas': 28700,'Beakers': 18500, 'Pipetas': 12400, 'Buretas': 68300,'Matraces aforados': 32500, 'Vidrio reloj': 7500, 'Embudos': 15200,\n",
        "    'Termometros': 21300, 'Desecadores': 89500, 'Picnometros': 112000}\n",
        "\n",
        "locations = ['Bogotá', 'Medellín', 'Cali', 'Barranquilla', 'Cartagena', 'Bucaramanga']\n",
        "\n",
        "data = {    'date': pd.date_range('2023-01-01', '2023-12-31').to_series().sample(1000, replace=True).values,\n",
        "    'Producto': np.random.choice(products, 1000),\n",
        "    'Cantidad': np.random.randint(1, 16, 1000),\n",
        "    'Ubicación': np.random.choice(locations, 1000)}\n",
        "\n",
        "df = pd.DataFrame(data)\n",
        "\n",
        "def assign_price(product):\n",
        "    base = base_price[product]\n",
        "    return base * (1 + np.random.uniform(-0.15, 0.15))\n",
        "\n",
        "df['unit_price'] = df['Producto'].apply(assign_price).round(2)\n",
        "df['income'] = (df['Cantidad'] * df['unit_price']).round(2)\n",
        "\n",
        "sales_by_location = df.groupby(['Ubicación', 'Producto'])['Cantidad'].sum().reset_index()\n",
        "top_product_per_location = sales_by_location.loc[sales_by_location.groupby('Ubicación')['Cantidad'].idxmax()]\n",
        "\n",
        "df['día del mes'] = df['date'].dt.day\n",
        "income_by_day = df.groupby('día del mes')['income'].sum().reset_index()\n",
        "max_income_day = income_by_day.loc[income_by_day['income'].idxmax()]\n",
        "\n",
        "print(\"=\"*50)\n",
        "print(\"Producto más vendido por ciudad\")\n",
        "print(\"=\"*50)\n",
        "print(top_product_per_location[['Ubicación', 'Producto', 'Cantidad']].to_string(index=False))\n",
        "\n",
        "print(\"\\n\" + \"=\"*50)\n",
        "print(f\"Día con más ingresos:Día N° {int(max_income_day['día del mes'])}\")\n",
        "print(f\"Ingresos totales: ${max_income_day['income']:,.2f} COP\")\n",
        "print(\"=\"*50)\n",
        "\n",
        "print(\"\\n 5 días con mayores ingresos:\")\n",
        "top_5_days = income_by_day.sort_values('income', ascending=False).head(5).reset_index(drop=True)\n",
        "top_5_days.columns = ['Día del mes', 'Ingresos totales (COP)']\n",
        "print(top_5_days)"
      ],
      "metadata": {
        "colab": {
          "base_uri": "https://localhost:8080/"
        },
        "id": "XdDqcSmFrm2L",
        "outputId": "66b27c7e-f681-4310-d6fd-f5b043028851"
      },
      "execution_count": null,
      "outputs": [
        {
          "output_type": "stream",
          "name": "stdout",
          "text": [
            "==================================================\n",
            "Producto más vendido por ciudad\n",
            "==================================================\n",
            "   Ubicación     Producto  Cantidad\n",
            "Barranquilla Vidrio reloj       174\n",
            "      Bogotá   Erlenmeyer       179\n",
            " Bucaramanga      Embudos       196\n",
            "        Cali     Probetas       157\n",
            "   Cartagena      Buretas       173\n",
            "    Medellín      Pipetas       166\n",
            "\n",
            "==================================================\n",
            "Día con más ingresos:Día N° 9\n",
            "Ingresos totales: $15,656,506.38 COP\n",
            "==================================================\n",
            "\n",
            " 5 días con mayores ingresos:\n",
            "   Día del mes  Ingresos totales (COP)\n",
            "0            9             15656506.38\n",
            "1           11             13508088.85\n",
            "2            8             13356464.27\n",
            "3           21             12164945.53\n",
            "4           23             11968795.74\n"
          ]
        }
      ]
    }
  ]
}